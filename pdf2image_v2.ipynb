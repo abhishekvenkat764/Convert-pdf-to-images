{
 "cells": [
  {
   "cell_type": "markdown",
   "metadata": {},
   "source": [
    "## This code converts pdfs to images.   \n",
    "Pre-requisites that need to be installed:\n",
    "\n",
    "- pip install pdf2image\n",
    "- conda install -c conda-forge poppler\n",
    "- always provide appropriate poppler_path for example: '..\\anaconda3\\Lib\\site-packages\\poppler-0.68.0\\bin'\n",
    "- Path for poppler: https://sourceforge.net/projects/poppler-win32/\n",
    "- Alternative for poppler: http://blog.alivate.com.au/poppler-windows/\n",
    "\n",
    "Alternative ways:   \n",
    "\n",
    "- conda create --name myenv\n",
    "- conda activate myenv\n",
    "- conda install -c anaconda ipykernel\n",
    "- python -m ipykernel install --user --name=myEnv"
   ]
  },
  {
   "cell_type": "code",
   "execution_count": 1,
   "metadata": {},
   "outputs": [],
   "source": [
    "#Importing the headers\n",
    "from pdf2image import convert_from_path\n",
    "import os\n",
    "from os import path"
   ]
  },
  {
   "cell_type": "code",
   "execution_count": 4,
   "metadata": {},
   "outputs": [],
   "source": [
    "#Provide the input and output paths.\n",
    "inputFolder = r'D:\\loremipsum\\sampleName.pdf'\n",
    "outputFolder = r'D:\\loremipsum\\outputfolder'\n",
    "\n",
    "#Please use only \"PNG\" or \"JPG\" as the output format. The default is set to JPG.\n",
    "outputFormat = \"PNG\" \n",
    "\n",
    "if not os.path.isdir(outputFolder):\n",
    "    os.mkdir(outputFolder)"
   ]
  },
  {
   "cell_type": "code",
   "execution_count": 5,
   "metadata": {},
   "outputs": [
    {
     "name": "stdout",
     "output_type": "stream",
     "text": [
      "The images are available in the following location: D:\\Personal Docs\\UK WORK\\GfK\\My Documents\\TandC_v2\n"
     ]
    }
   ],
   "source": [
    "#Verifying that the file actually exists.\n",
    "if os.path.isfile(inputFolder):\n",
    "    \n",
    "    #Actual code that fetches the pdf and strips off the images.\n",
    "    #poppler_path = This should consist of the location of the bin folder of your poppler.\n",
    "    pdfPages = convert_from_path(inputFolder, 500, poppler_path = r'C:\\Users\\loremipsum\\anaconda3\\Lib\\site-packages\\poppler-0.68.0\\bin')\n",
    "\n",
    "    if outputFormat == \"PNG\":\n",
    "        \n",
    "        #lopping through the pages to convert them into images.\n",
    "        for i, page in enumerate(pdfPages):\n",
    "            imgName = outputFolder + r'\\image'+str(i)+'.png'\n",
    "            page.save(imgName, \"PNG\")\n",
    "    \n",
    "        print('The images are available in the following location: ' + outputFolder)   \n",
    "        \n",
    "    elif outputFormat == \"JPG\":\n",
    "        \n",
    "        #lopping through the pages to convert them into images.\n",
    "        for i, page in enumerate(pdfPages):\n",
    "            imgName = outputFolder + r'\\image'+str(i)+'.jpg'\n",
    "            page.save(imgName, \"JPEG\")\n",
    "    \n",
    "        print('The images are available in the following location: ' + outputFolder)   \n",
    "        \n",
    "    else:\n",
    "        \n",
    "        #lopping through the pages to convert them into images.\n",
    "        for i, page in enumerate(pdfPages):\n",
    "            imgName = outputFolder + r'\\image'+str(i)+'.jpg'\n",
    "            page.save(imgName, \"JPEG\")\n",
    "    \n",
    "        print('The images are available in the following location: ' + outputFolder) \n",
    "        \n",
    "\n",
    "else:\n",
    "    print('Sorry, the specified file does not exist as provided.')"
   ]
  },
  {
   "cell_type": "code",
   "execution_count": null,
   "metadata": {},
   "outputs": [],
   "source": []
  }
 ],
 "metadata": {
  "kernelspec": {
   "display_name": "myEnv",
   "language": "python",
   "name": "myenv"
  },
  "language_info": {
   "codemirror_mode": {
    "name": "ipython",
    "version": 3
   },
   "file_extension": ".py",
   "mimetype": "text/x-python",
   "name": "python",
   "nbconvert_exporter": "python",
   "pygments_lexer": "ipython3",
   "version": "3.8.5"
  }
 },
 "nbformat": 4,
 "nbformat_minor": 4
}
